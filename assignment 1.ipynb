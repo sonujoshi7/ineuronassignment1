{
 "cells": [
  {
   "cell_type": "code",
   "execution_count": null,
   "id": "f1fd37a7",
   "metadata": {},
   "outputs": [],
   "source": [
    "#question1\n",
    "values= \"hello\",87.8,6\n",
    "expression = -,/,+"
   ]
  },
  {
   "cell_type": "code",
   "execution_count": null,
   "id": "d3aa04fa",
   "metadata": {},
   "outputs": [],
   "source": [
    "#question2\n",
    "string=it is a data type,no matter what inside string its type remain string\n",
    "variable = it can be anything like int,float."
   ]
  },
  {
   "cell_type": "code",
   "execution_count": null,
   "id": "333a1932",
   "metadata": {},
   "outputs": [],
   "source": [
    "#What is the difference between string and variable?\n",
    "string = it is type of data which we stored in variable\n",
    "variable = it is used to store the information or data"
   ]
  },
  {
   "cell_type": "code",
   "execution_count": null,
   "id": "7f1d68ea",
   "metadata": {},
   "outputs": [],
   "source": [
    "#Describe three different data types.\n",
    "int= it is used for the integer values\n",
    "boolean=it is used for ture or false type of condtion\n",
    "float = it is used for decimal values\n",
    "\n"
   ]
  },
  {
   "cell_type": "code",
   "execution_count": null,
   "id": "784f4359",
   "metadata": {},
   "outputs": [],
   "source": [
    "#What is an expression made up of? What do all expressions do?\n",
    "expression is made up of variable,oprator etc. they genrally represent the values"
   ]
  },
  {
   "cell_type": "code",
   "execution_count": null,
   "id": "1f15bc28",
   "metadata": {},
   "outputs": [],
   "source": [
    "#What is the difference between an expression and a statement?\n",
    "the main differnce is that expression calculate the value on the other hand statement can create an values and show the values\n"
   ]
  },
  {
   "cell_type": "code",
   "execution_count": null,
   "id": "de609724",
   "metadata": {},
   "outputs": [],
   "source": [
    "#  After running the following code, what does the variable bacon contain?\n",
    "# bacon = 22\n",
    "# bacon + 1\n",
    "bacon =23\n"
   ]
  },
  {
   "cell_type": "code",
   "execution_count": null,
   "id": "7b862af6",
   "metadata": {},
   "outputs": [],
   "source": [
    "# What should the values of the following two terms be?\n",
    "\"spam\"+\"spamspam\"== spamspamspam\n",
    "\"spam\"*3==spamspamspam\n",
    "\n",
    "\n"
   ]
  },
  {
   "cell_type": "code",
   "execution_count": null,
   "id": "4a23df16",
   "metadata": {},
   "outputs": [],
   "source": [
    "#Why is eggs a valid variable name while 100 is invalid?\n",
    "eggs is valid variable b/c variable name can be anything on the other hand 100 is not a valid variable b/c 100 itself type of data and we can't assign any value to it."
   ]
  },
  {
   "cell_type": "code",
   "execution_count": null,
   "id": "91227685",
   "metadata": {},
   "outputs": [],
   "source": [
    "# What three functions can be used to get the integer, floating-point number, or string\n",
    "# version of a value?\n",
    "to get  integer use=int function\n",
    "to get floating point use = Float function\n",
    "to get string use= str function\n"
   ]
  },
  {
   "cell_type": "code",
   "execution_count": null,
   "id": "91e16cb9",
   "metadata": {},
   "outputs": [],
   "source": [
    "Why does this expression cause an error? How can you fix it?\n",
    "#'I have eaten\" + 99 +  \"\"burritos\"\n",
    "cause of error = 99 is integer concatination can not done of string data and integer data\n",
    " to solve it = we have to change 99 into string using str function.\n"
   ]
  }
 ],
 "metadata": {
  "kernelspec": {
   "display_name": "Python 3 (ipykernel)",
   "language": "python",
   "name": "python3"
  },
  "language_info": {
   "codemirror_mode": {
    "name": "ipython",
    "version": 3
   },
   "file_extension": ".py",
   "mimetype": "text/x-python",
   "name": "python",
   "nbconvert_exporter": "python",
   "pygments_lexer": "ipython3",
   "version": "3.9.12"
  }
 },
 "nbformat": 4,
 "nbformat_minor": 5
}
